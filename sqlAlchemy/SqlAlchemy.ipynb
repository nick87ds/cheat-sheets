{
 "cells": [
  {
   "cell_type": "code",
   "execution_count": 1,
   "id": "97370d80",
   "metadata": {},
   "outputs": [],
   "source": [
    "from sqlalchemy import create_engine\n",
    "from sqlalchemy import Column, Integer, Float, Text, MetaData, Table, DateTime\n",
    "from sqlalchemy.sql import func, and_, select, update"
   ]
  },
  {
   "cell_type": "code",
   "execution_count": 58,
   "id": "119eabc5",
   "metadata": {},
   "outputs": [],
   "source": [
    "import time\n",
    "ts = time.localtime()\n",
    "timestamp = (time.strftime(\"%Y-%m-%d %H:%M:%S\", ts))"
   ]
  },
  {
   "cell_type": "code",
   "execution_count": 59,
   "id": "e884f538",
   "metadata": {},
   "outputs": [
    {
     "data": {
      "text/plain": [
       "'2021-10-08 21:12:32'"
      ]
     },
     "execution_count": 59,
     "metadata": {},
     "output_type": "execute_result"
    }
   ],
   "source": [
    "timestamp"
   ]
  },
  {
   "cell_type": "code",
   "execution_count": 61,
   "id": "5e9e9c70",
   "metadata": {},
   "outputs": [],
   "source": [
    "db_url = f\"mysql://{user}:{passwd}@{address}/{db}\"\n",
    "\n",
    "engine = create_engine('sqlite:///test.db')\n",
    "\n",
    "metadata = MetaData()"
   ]
  },
  {
   "cell_type": "code",
   "execution_count": null,
   "id": "3d860130",
   "metadata": {},
   "outputs": [],
   "source": []
  },
  {
   "cell_type": "code",
   "execution_count": 18,
   "id": "95effab4",
   "metadata": {},
   "outputs": [],
   "source": [
    "tabella = 'nome_tabella'"
   ]
  },
  {
   "cell_type": "code",
   "execution_count": null,
   "id": "ad103e57",
   "metadata": {},
   "outputs": [],
   "source": [
    "tab_parti = Table(\n",
    "\n",
    "    tabella, metadata,\n",
    "\n",
    "#     Column('id', Integer, primary_key=True),\n",
    "    Column('Prec_parti', Text, nullable = False),\n",
    "    Column('Cod_parti', Text, nullable = False),\n",
    "    Column('Descrizione', Text, nullable = False),\n",
    "    Column('Prezzo_vendita', Float, nullable = False),\n",
    "    Column('Prezzo_carico', Float, nullable = False),\n",
    "    Column('Classe_merceol', Integer, nullable = False),\n",
    "#     Column('DataTime', DateTime(timezone=True), default=func.now())\n",
    "#     Column('DataTime', DateTime, default=datetime.datetime.utcnow, onupdate=datetime.datetime.utcnow),\n",
    "#     Column('Timestamp', DateTime, default=datetime.datetime.utcnow, onupdate=datetime.datetime.utcnow)\n",
    ")\n",
    "\n"
   ]
  },
  {
   "cell_type": "code",
   "execution_count": null,
   "id": "f0e24afd",
   "metadata": {},
   "outputs": [],
   "source": [
    "tab_parti.create(bind=engine)"
   ]
  },
  {
   "cell_type": "code",
   "execution_count": null,
   "id": "371a5c6e",
   "metadata": {},
   "outputs": [],
   "source": []
  },
  {
   "cell_type": "markdown",
   "id": "5dd19517",
   "metadata": {},
   "source": [
    "## Popolazione e lettura tabella con Pandas"
   ]
  },
  {
   "cell_type": "code",
   "execution_count": null,
   "id": "de1220e8",
   "metadata": {},
   "outputs": [],
   "source": [
    "df.to_sql(tabella, con=engine, if_exists='replace', index=False)\n",
    "\n",
    "# .to_sql(tabella, con=engine, if_exists='append', index=False)"
   ]
  },
  {
   "cell_type": "code",
   "execution_count": null,
   "id": "5b5cbf36",
   "metadata": {},
   "outputs": [],
   "source": [
    "df_sql = pd.read_sql_table(tabella, con=engine)"
   ]
  },
  {
   "cell_type": "markdown",
   "id": "1ac04fd4",
   "metadata": {},
   "source": [
    "## Select"
   ]
  },
  {
   "cell_type": "code",
   "execution_count": null,
   "id": "4e9728d4",
   "metadata": {},
   "outputs": [],
   "source": [
    "with engine.connect() as con:\n",
    "    query = select([tab_parti])\n",
    "    rs = con.execute(query)\n",
    "    \n",
    "    print(rs.fetchall())"
   ]
  },
  {
   "cell_type": "code",
   "execution_count": null,
   "id": "97a3fd08",
   "metadata": {},
   "outputs": [],
   "source": []
  },
  {
   "cell_type": "markdown",
   "id": "6bcd3d60",
   "metadata": {},
   "source": [
    "## Update"
   ]
  },
  {
   "cell_type": "code",
   "execution_count": null,
   "id": "3261bdd9",
   "metadata": {},
   "outputs": [],
   "source": [
    "with engine.connect() as con:\n",
    "\n",
    "    for k, row in delta_prodotti.iterrows():\n",
    "\n",
    "        query = update(tab_parti).values(Classe_merceol=900).where(and_(tab_parti.c.Prec_parti == row[0],\n",
    "                                                                         tab_parti.c.Cod_parti == row[1]))\n",
    "        rs = con.execute(query)"
   ]
  },
  {
   "cell_type": "code",
   "execution_count": null,
   "id": "010d5a60",
   "metadata": {},
   "outputs": [],
   "source": [
    "def classe_901(self, Prec_parti, Cod_parti):\n",
    "    with self.engine.connect() as con:\n",
    "        query = update(self.tab_parti).values(Classe_merceol=901).where(and_(self.tab_parti.c.Prec_parti == Prec_parti,\n",
    "                                                                             self.tab_parti.c.Cod_parti == Cod_parti))\n",
    "        rs = con.execute(query)\n",
    "\n",
    "        if rs.rowcount == 0:\n",
    "            msg = f\"\\n     Il seguente prodotto non è stato però aggiornato nel database: {Prec_parti} - {Cod_parti}\"\n",
    "            self.report.write(msg)"
   ]
  }
 ],
 "metadata": {
  "kernelspec": {
   "display_name": "Python 3",
   "language": "python",
   "name": "python3"
  },
  "language_info": {
   "codemirror_mode": {
    "name": "ipython",
    "version": 3
   },
   "file_extension": ".py",
   "mimetype": "text/x-python",
   "name": "python",
   "nbconvert_exporter": "python",
   "pygments_lexer": "ipython3",
   "version": "3.8.5"
  }
 },
 "nbformat": 4,
 "nbformat_minor": 5
}
