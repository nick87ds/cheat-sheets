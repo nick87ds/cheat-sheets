{
 "cells": [
  {
   "cell_type": "code",
   "execution_count": 1,
   "id": "186ce3b0",
   "metadata": {},
   "outputs": [],
   "source": [
    "import requests\n",
    "import json\n",
    "import datetime\n",
    "import dateparser"
   ]
  },
  {
   "cell_type": "code",
   "execution_count": null,
   "id": "c9c0eb22",
   "metadata": {},
   "outputs": [],
   "source": [
    "# curl -XPOST http://0.0.0.0:8000/parse --data 'locale=it_IT&text=domani alle otto'"
   ]
  },
  {
   "cell_type": "code",
   "execution_count": 2,
   "id": "a92e5e1b",
   "metadata": {},
   "outputs": [],
   "source": [
    "url = \"http://0.0.0.0:8000/parse\""
   ]
  },
  {
   "cell_type": "code",
   "execution_count": 12,
   "id": "05643463",
   "metadata": {},
   "outputs": [],
   "source": [
    "data = {\"locale\":\"it_IT\",\n",
    "        \"text\":\"Ci vediamo domani alle otto e mezza in piazza, non tardare perchè alle nove vado via\"}"
   ]
  },
  {
   "cell_type": "code",
   "execution_count": 13,
   "id": "f4b37248",
   "metadata": {},
   "outputs": [
    {
     "data": {
      "text/plain": [
       "{'locale': 'it_IT',\n",
       " 'text': 'Ci vediamo domani alle otto e mezza in piazza, non tardare perchè alle nove vado via'}"
      ]
     },
     "execution_count": 13,
     "metadata": {},
     "output_type": "execute_result"
    }
   ],
   "source": [
    "data"
   ]
  },
  {
   "cell_type": "code",
   "execution_count": 14,
   "id": "6927bfa4",
   "metadata": {},
   "outputs": [],
   "source": [
    "response = requests.post(url, data=data)"
   ]
  },
  {
   "cell_type": "code",
   "execution_count": 15,
   "id": "19751fbd",
   "metadata": {},
   "outputs": [
    {
     "data": {
      "text/plain": [
       "200"
      ]
     },
     "execution_count": 15,
     "metadata": {},
     "output_type": "execute_result"
    }
   ],
   "source": [
    "response.status_code"
   ]
  },
  {
   "cell_type": "code",
   "execution_count": 17,
   "id": "9b66d344",
   "metadata": {},
   "outputs": [
    {
     "data": {
      "text/plain": [
       "'time'"
      ]
     },
     "execution_count": 17,
     "metadata": {},
     "output_type": "execute_result"
    }
   ],
   "source": [
    "response.json()[1]['dim']"
   ]
  },
  {
   "cell_type": "code",
   "execution_count": 87,
   "id": "d156c915",
   "metadata": {},
   "outputs": [
    {
     "data": {
      "text/plain": [
       "2"
      ]
     },
     "execution_count": 87,
     "metadata": {},
     "output_type": "execute_result"
    }
   ],
   "source": [
    "len(response.json())"
   ]
  },
  {
   "cell_type": "code",
   "execution_count": 89,
   "id": "62d6e7c3",
   "metadata": {},
   "outputs": [
    {
     "name": "stdout",
     "output_type": "stream",
     "text": [
      "2021-08-31T08:00:00.000-07:00\n",
      "2021-08-31T09:00:00.000-07:00\n"
     ]
    }
   ],
   "source": [
    "for dt in response.json():\n",
    "    \n",
    "    print(dt['value']['value'])"
   ]
  },
  {
   "cell_type": "code",
   "execution_count": 86,
   "id": "bdb27dd5",
   "metadata": {},
   "outputs": [
    {
     "data": {
      "text/plain": [
       "'2021-08-31T09:00:00.000-07:00'"
      ]
     },
     "execution_count": 86,
     "metadata": {},
     "output_type": "execute_result"
    }
   ],
   "source": [
    "risp_data = response.json()[1]['value']['value']\n",
    "risp_data"
   ]
  },
  {
   "cell_type": "code",
   "execution_count": 63,
   "id": "c95c0bea",
   "metadata": {},
   "outputs": [
    {
     "data": {
      "text/plain": [
       "'31/08/2021 - 08H:00M'"
      ]
     },
     "execution_count": 63,
     "metadata": {},
     "output_type": "execute_result"
    }
   ],
   "source": [
    "dateparser.parse(risp_data).strftime(\"%d/%m/%Y - %HH:%MM\")"
   ]
  },
  {
   "cell_type": "code",
   "execution_count": 66,
   "id": "52463e95",
   "metadata": {},
   "outputs": [
    {
     "data": {
      "text/plain": [
       "1630422000.0"
      ]
     },
     "execution_count": 66,
     "metadata": {},
     "output_type": "execute_result"
    }
   ],
   "source": [
    "dateparser.parse(risp_data).timestamp()"
   ]
  },
  {
   "cell_type": "code",
   "execution_count": 68,
   "id": "35850f6e",
   "metadata": {},
   "outputs": [
    {
     "data": {
      "text/plain": [
       "datetime.date(2021, 8, 31)"
      ]
     },
     "execution_count": 68,
     "metadata": {},
     "output_type": "execute_result"
    }
   ],
   "source": [
    "dateparser.parse(risp_data).date()"
   ]
  },
  {
   "cell_type": "code",
   "execution_count": 74,
   "id": "a2936416",
   "metadata": {},
   "outputs": [
    {
     "data": {
      "text/plain": [
       "datetime.time(8, 0)"
      ]
     },
     "execution_count": 74,
     "metadata": {},
     "output_type": "execute_result"
    }
   ],
   "source": [
    "dateparser.parse(risp_data).time()"
   ]
  },
  {
   "cell_type": "code",
   "execution_count": 78,
   "id": "87127f1b",
   "metadata": {},
   "outputs": [
    {
     "data": {
      "text/plain": [
       "datetime.datetime(2021, 8, 31, 8, 0, tzinfo=<StaticTzInfo 'UTC\\-07:00'>)"
      ]
     },
     "execution_count": 78,
     "metadata": {},
     "output_type": "execute_result"
    }
   ],
   "source": [
    "dateparser.parse(risp_data)"
   ]
  }
 ],
 "metadata": {
  "kernelspec": {
   "display_name": "Python 3",
   "language": "python",
   "name": "python3"
  },
  "language_info": {
   "codemirror_mode": {
    "name": "ipython",
    "version": 3
   },
   "file_extension": ".py",
   "mimetype": "text/x-python",
   "name": "python",
   "nbconvert_exporter": "python",
   "pygments_lexer": "ipython3",
   "version": "3.8.5"
  }
 },
 "nbformat": 4,
 "nbformat_minor": 5
}
