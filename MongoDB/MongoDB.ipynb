{
 "cells": [
  {
   "cell_type": "code",
   "execution_count": 1,
   "id": "0568b8fa",
   "metadata": {},
   "outputs": [],
   "source": [
    "from pymongo import MongoClient"
   ]
  },
  {
   "cell_type": "code",
   "execution_count": null,
   "id": "8c55a987",
   "metadata": {},
   "outputs": [],
   "source": [
    "client = MongoClient('127.0.0.1',27017)\n",
    "# client = MongoClient(\"mongodb://localhost:27017\")"
   ]
  },
  {
   "cell_type": "code",
   "execution_count": 2,
   "id": "41a16560",
   "metadata": {},
   "outputs": [],
   "source": [
    "database = 'Nome_database'\n",
    "collections_names = ['Nome_collection']"
   ]
  },
  {
   "cell_type": "code",
   "execution_count": null,
   "id": "e91fe294",
   "metadata": {},
   "outputs": [],
   "source": [
    "client.close()"
   ]
  },
  {
   "cell_type": "markdown",
   "id": "78c43f32",
   "metadata": {},
   "source": [
    "### Inizializzazione"
   ]
  },
  {
   "cell_type": "code",
   "execution_count": 2,
   "id": "4457c3a2",
   "metadata": {
    "scrolled": false
   },
   "outputs": [],
   "source": [
    "db = client[database]\n",
    "posts = db[collections_names[0]]"
   ]
  },
  {
   "cell_type": "markdown",
   "id": "636c2470",
   "metadata": {},
   "source": [
    "### Inserimento"
   ]
  },
  {
   "cell_type": "code",
   "execution_count": 3,
   "id": "8c4be346",
   "metadata": {},
   "outputs": [],
   "source": [
    "try:\n",
    "\n",
    "    item = dict()\n",
    "    item.setdefault(\"PrezzoRegolare\",\"\")\n",
    "    item[\"link\"] = prodotto.select('a')[0].get('href')\n",
    "    item[\"time\"] = datetime.datetime.now()\n",
    "    item[\"dominio\"] = dominio\n",
    "    item[\"categoria\"] = prodotto.select('.')[0].getText()\n",
    "    item[\"descrizioneBreve\"] = prodotto.select('.')[0].getText()\n",
    "    # item[\"nomeProdotto\"] = \"\"\n",
    "    # item[\"marcaProdotto\"] = \"\"\n",
    "    # item[\"Kg\"] = \"\"\n",
    "    item[\"Prezzo\"] = prodotto.select('.')[0].getText()\n",
    "\n",
    "    # TODO: Prezzo Regolare\n",
    "    try:\n",
    "        item[\"PrezzoRegolare\"] = prodotto.select('.')[0].getText()\n",
    "    except Exception as err:\n",
    "        logger.warning(f'no scraping prezzo regolare {item[\"link\"]}')\n",
    "\n",
    "    posts.insert_one(item)\n",
    "\n",
    "    logger.info(f'ok scraping {item[\"link\"]}')\n",
    "\n",
    "except Exception as err:\n",
    "    # TODO\n",
    "    logger.warning(\n",
    "        f'non ha funzionato lo scraping per il link {item[\"link\"]} per il seguente motivo: {str(err)}')\n",
    "    pass"
   ]
  },
  {
   "cell_type": "code",
   "execution_count": null,
   "id": "a7ed456c",
   "metadata": {},
   "outputs": [],
   "source": []
  },
  {
   "cell_type": "code",
   "execution_count": null,
   "id": "08ad58d9",
   "metadata": {},
   "outputs": [],
   "source": [
    "from pymongo import MongoClient\n",
    "from random import randint\n",
    "\n",
    "\n",
    "#Step 1: Connect to MongoDB - Note: Change connection string as needed\n",
    "client = MongoClient(port=27017)\n",
    "db=client.business\n",
    "\n",
    "\n",
    "#Step 2: Create sample data\n",
    "names = ['Kitchen','Animal','State', 'Tastey', 'Big','City','Fish', 'Pizza','Goat', 'Salty','Sandwich','Lazy', 'Fun']\n",
    "company_type = ['LLC','Inc','Company','Corporation']\n",
    "company_cuisine = ['Pizza', 'Bar Food', 'Fast Food', 'Italian', 'Mexican', 'American', 'Sushi Bar', 'Vegetarian']\n",
    "\n",
    "\n",
    "for x in range(1, 501):\n",
    "    business = {\n",
    "        'name' : names[randint(0, (len(names)-1))] + ' ' + names[randint(0, (len(names)-1))]  + ' ' + company_type[randint(0, (len(company_type)-1))],\n",
    "        'rating' : randint(1, 5),\n",
    "        'cuisine' : company_cuisine[randint(0, (len(company_cuisine)-1))] \n",
    "    }\n",
    "\n",
    "    #Step 3: Insert business object directly into MongoDB via insert_one\n",
    "    result=db.reviews.insert_one(business)\n",
    "    \n",
    "    #Step 4: Print to the console the ObjectID of the new document\n",
    "    print('Created {0} of 500 as {1}'.format(x,result.inserted_id))\n",
    "\n",
    "    \n",
    "#Step 5: Tell us that you are done\n",
    "print('finished creating 500 business reviews')"
   ]
  },
  {
   "cell_type": "code",
   "execution_count": null,
   "id": "8187dd86",
   "metadata": {},
   "outputs": [],
   "source": []
  },
  {
   "cell_type": "code",
   "execution_count": null,
   "id": "a53f9ccf",
   "metadata": {},
   "outputs": [],
   "source": [
    "fivestar = db.reviews.find_one({'rating': 5})\n",
    "print(fivestar)"
   ]
  },
  {
   "cell_type": "code",
   "execution_count": null,
   "id": "b95f32b9",
   "metadata": {},
   "outputs": [],
   "source": [
    "fivestarcount = db.reviews.find({'rating': 5}).count()\n",
    "print(fivestarcount)"
   ]
  },
  {
   "cell_type": "code",
   "execution_count": null,
   "id": "7e008a95",
   "metadata": {},
   "outputs": [],
   "source": []
  },
  {
   "cell_type": "code",
   "execution_count": null,
   "id": "d5dfca07",
   "metadata": {},
   "outputs": [],
   "source": [
    "ASingleReview = db.reviews.find_one({})\n",
    "print('A sample document:')\n",
    "pprint(ASingleReview)\n",
    "\n",
    "result = db.reviews.update_one({'_id' : ASingleReview.get('_id') }, {'$inc': {'likes': 1}})\n",
    "print('Number of documents modified : ' + str(result.modified_count))\n",
    "\n",
    "UpdatedDocument = db.reviews.find_one({'_id':ASingleReview.get('_id')})\n",
    "print('The updated document:')\n",
    "pprint(UpdatedDocument)"
   ]
  },
  {
   "cell_type": "code",
   "execution_count": null,
   "id": "21fed86c",
   "metadata": {},
   "outputs": [],
   "source": []
  },
  {
   "cell_type": "code",
   "execution_count": null,
   "id": "1db371e7",
   "metadata": {},
   "outputs": [],
   "source": [
    "result = db.restaurants.delete_many({“category”: “Bar Food“})"
   ]
  },
  {
   "cell_type": "code",
   "execution_count": null,
   "id": "6a722de5",
   "metadata": {},
   "outputs": [],
   "source": []
  },
  {
   "cell_type": "code",
   "execution_count": null,
   "id": "ca07a91e",
   "metadata": {},
   "outputs": [],
   "source": [
    "import pprint\n",
    "\n",
    "for doc in tutorial.find():\n",
    "    pprint.pprint(doc)"
   ]
  },
  {
   "cell_type": "code",
   "execution_count": null,
   "id": "b5332525",
   "metadata": {},
   "outputs": [],
   "source": []
  },
  {
   "cell_type": "code",
   "execution_count": null,
   "id": "a2c36d80",
   "metadata": {},
   "outputs": [],
   "source": []
  }
 ],
 "metadata": {
  "kernelspec": {
   "display_name": "Python 3",
   "language": "python",
   "name": "python3"
  },
  "language_info": {
   "codemirror_mode": {
    "name": "ipython",
    "version": 3
   },
   "file_extension": ".py",
   "mimetype": "text/x-python",
   "name": "python",
   "nbconvert_exporter": "python",
   "pygments_lexer": "ipython3",
   "version": "3.8.5"
  }
 },
 "nbformat": 4,
 "nbformat_minor": 5
}
