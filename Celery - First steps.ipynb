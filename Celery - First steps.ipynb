{
 "cells": [
  {
   "cell_type": "markdown",
   "id": "90cf52b0",
   "metadata": {},
   "source": [
    "# Celery\n",
    "#### _Un sistema distribuito semplice, flessibile e affidabile per elaborare grandi quantità di operazioni_\n",
    "\n",
    "## Introduzione\n",
    "Le code di attività ([**task**](https://docs.celeryproject.org/en/stable/userguide/tasks.html) queue) vengono utilizzate come meccanismo per distribuire il lavoro tra [(**workers**)](https://docs.celeryproject.org/en/stable/userguide/workers.html#guide-workers) thread o macchine."
   ]
  },
  {
   "cell_type": "markdown",
   "id": "3058ac33",
   "metadata": {},
   "source": [
    "[Project Link](https://docs.celeryproject.org/en/stable/getting-started/index.html) - [Celery GitHub Link](https://github.com/celery/celery)"
   ]
  },
  {
   "cell_type": "markdown",
   "id": "e6917535",
   "metadata": {},
   "source": [
    "Celery comunica tramite messaggi, di solito utilizzando un broker per mediare tra client e workers. Per avviare un'attività, il client aggiunge un messaggio alla coda, il broker consegna quindi quel messaggio a un worker.\n",
    "\n",
    "Un sistema Celery può essere costituito da più worker (CPU) e broker, lasciando il posto a un'elevata disponibilità e al ridimensionamento orizzontale."
   ]
  },
  {
   "cell_type": "markdown",
   "id": "56b017ff",
   "metadata": {},
   "source": [
    "Supporta:\n",
    "* Brokers: RabbitMQ, Redis, Amazon SQS, ...\n",
    "* Concurrency: prefork, thread, …\n",
    "* Result Stores: Redis, AMQP, Memcached, SQLAlchemy, MongoDB, …\n",
    "* Serialization: pickle, json, …"
   ]
  },
  {
   "cell_type": "markdown",
   "id": "f214409d",
   "metadata": {},
   "source": [
    "Ulteriori caratteristiche:\n",
    "* Monitoring\n",
    "* [Work-flows](https://docs.celeryproject.org/en/stable/userguide/canvas.html#guide-canvas): grouping, chaining, chunking \n",
    "* [Time & Rate Limits](https://docs.celeryproject.org/en/stable/userguide/workers.html#worker-time-limits): È possibile controllare quante attività possono essere eseguite al secondo / minuto / ora o per quanto tempo può essere consentita l'esecuzione di un'attività e questo può essere impostato come predefinito, per un lavoratore specifico o individualmente per ogni tipo di attività.\n",
    "* [Scheduling](https://docs.celeryproject.org/en/stable/userguide/periodic-tasks.html#guide-beat): È possibile specificare il tempo per eseguire un'attività in secondi o un datetime oppure è possibile utilizzare attività periodiche per eventi ricorrenti basati su un intervallo semplice o espressioni Crontab che supportano minuto, ora, giorno della settimana, giorno del mese e mese dell'anno.\n",
    "* Resource Leak Protection (Protezione dalla perdita di risorse)\n",
    "* User Components: Ogni componente worker può essere personalizzato"
   ]
  },
  {
   "cell_type": "markdown",
   "id": "d357e814",
   "metadata": {},
   "source": [
    "## Installazione di Celery e avvio del Broker"
   ]
  },
  {
   "cell_type": "markdown",
   "id": "c227e36d",
   "metadata": {},
   "source": [
    "```pip install -U Celery```\n",
    "\n",
    "oppure\n",
    "\n",
    "```pip install flower``` (flower è uno strumento di monitoring)\n",
    "\n",
    "```pip install \"celery[redis]\"```\n",
    "\n",
    "In questo caso lo installiamo unitamente all'estensione con Redis."
   ]
  },
  {
   "cell_type": "markdown",
   "id": "c59bad4d",
   "metadata": {},
   "source": [
    "Redis è il nostro broker di messaggi, per completezza di esposizione si prefersce usare la sua versione in Docker."
   ]
  },
  {
   "cell_type": "markdown",
   "id": "e14dabe4",
   "metadata": {},
   "source": [
    "```sudo docker pull redis```\n",
    "\n",
    "```docker run -d -p 6379:6379 redis```\n",
    "\n",
    "```sudo ip addr show docker0```\n",
    "\n",
    "*Quest'ultima istruzione serve per conoscere l'indirizzo verso cui puntare da usare nello script.*"
   ]
  },
  {
   "cell_type": "code",
   "execution_count": 1,
   "id": "a6f28aeb",
   "metadata": {},
   "outputs": [],
   "source": [
    "from celery import Celery"
   ]
  },
  {
   "cell_type": "markdown",
   "id": "c0bd6d3e",
   "metadata": {},
   "source": [
    "##### Configurazione iniziale"
   ]
  },
  {
   "cell_type": "code",
   "execution_count": 2,
   "id": "fa247b2c",
   "metadata": {},
   "outputs": [],
   "source": [
    "app = Celery(main='tasks', backend='redis://172.17.0.1/', broker='redis://172.17.0.1/')"
   ]
  },
  {
   "cell_type": "code",
   "execution_count": 10,
   "id": "7c055b68",
   "metadata": {},
   "outputs": [
    {
     "data": {
      "text/plain": [
       "'SUCCESS'"
      ]
     },
     "execution_count": 10,
     "metadata": {},
     "output_type": "execute_result"
    }
   ],
   "source": [
    "app.AsyncResult('b2caf158-1f6f-4be2-bf44-5787ae12e37e').status"
   ]
  },
  {
   "cell_type": "code",
   "execution_count": null,
   "id": "aa9c801f",
   "metadata": {},
   "outputs": [],
   "source": []
  },
  {
   "cell_type": "markdown",
   "id": "5007f037",
   "metadata": {},
   "source": [
    "##### Il nostro task (o attività)"
   ]
  },
  {
   "cell_type": "code",
   "execution_count": null,
   "id": "f678194d",
   "metadata": {},
   "outputs": [],
   "source": [
    "@app.task\n",
    "def add(x, y):\n",
    "    return x + y\n",
    "\n",
    "# oppure\n",
    "\n",
    "@app.task(bind=True)\n",
    "def add(self, x, y):\n",
    "    logger.info(self.request.id)\n",
    "    return x + y"
   ]
  },
  {
   "cell_type": "markdown",
   "id": "01774320",
   "metadata": {},
   "source": [
    "##### La semplice chiamata asincrona"
   ]
  },
  {
   "cell_type": "code",
   "execution_count": null,
   "id": "037e63d5",
   "metadata": {},
   "outputs": [],
   "source": [
    "r = add.apply_async([1,1], countdown=10)\n",
    "r.id"
   ]
  },
  {
   "cell_type": "markdown",
   "id": "2bd44fb5",
   "metadata": {},
   "source": [
    "Il parametro \"countdown\" è opzionale. Indica quanti secondi devono trascorrere prima che il task venga eseguito."
   ]
  },
  {
   "cell_type": "markdown",
   "id": "d34e7f64",
   "metadata": {},
   "source": [
    "##### Alcuni parametri del task"
   ]
  },
  {
   "cell_type": "markdown",
   "id": "2741ddf5",
   "metadata": {},
   "source": [
    "* **name**"
   ]
  },
  {
   "cell_type": "code",
   "execution_count": null,
   "id": "a842167c",
   "metadata": {},
   "outputs": [],
   "source": [
    "@app.task(name='task.add')\n",
    "def add(x, y):\n",
    "    return x + y"
   ]
  },
  {
   "cell_type": "markdown",
   "id": "aa062bff",
   "metadata": {},
   "source": [
    "* **time_limit** (in mancanza usa il valore definito del worker)"
   ]
  },
  {
   "cell_type": "code",
   "execution_count": null,
   "id": "99be0df2",
   "metadata": {},
   "outputs": [],
   "source": [
    "@app.task(time_limit=3600)\n",
    "def add(x, y):\n",
    "    return x + y"
   ]
  },
  {
   "cell_type": "markdown",
   "id": "cf00e300",
   "metadata": {},
   "source": [
    "* **max_retries** è il numero di volte per le quali sarà ripetuto il task in caso di errore (default = 3). Con \"None\" ripeterà all'infinito\n",
    "\n",
    "* Mentre **default_retry_delay** è il tempo (in secondi) tra ogni tentativo (default 3 minuti)."
   ]
  },
  {
   "cell_type": "code",
   "execution_count": null,
   "id": "fe87923c",
   "metadata": {},
   "outputs": [],
   "source": [
    "@app.task(max_retries=3)\n",
    "def add(x, y):\n",
    "    return x + y"
   ]
  },
  {
   "cell_type": "markdown",
   "id": "5542adaf",
   "metadata": {},
   "source": [
    "### [Work-flows](https://docs.celeryproject.org/en/stable/userguide/canvas.html)"
   ]
  },
  {
   "cell_type": "markdown",
   "id": "5d32b7f2",
   "metadata": {},
   "source": [
    "##### Task raggruppati"
   ]
  },
  {
   "cell_type": "code",
   "execution_count": null,
   "id": "d8dc8c7f",
   "metadata": {},
   "outputs": [],
   "source": [
    "from celery import group\n",
    "\n",
    "res = group(add.s(i, i) for i in range(10))()\n",
    "res.get()"
   ]
  },
  {
   "cell_type": "markdown",
   "id": "8d3671e7",
   "metadata": {},
   "source": [
    "##### Task in sequenza (stile Map and Reduce)"
   ]
  },
  {
   "cell_type": "code",
   "execution_count": null,
   "id": "99c34733",
   "metadata": {},
   "outputs": [],
   "source": [
    "from celery import chord\n",
    "\n",
    "@app.task\n",
    "def xsum(numbers):\n",
    "    return sum(numbers)\n",
    "\n",
    "res = chord((add.s(i, i) for i in range(10)), xsum.s()).apply_async()\n",
    "res.get()"
   ]
  },
  {
   "cell_type": "markdown",
   "id": "8a234964",
   "metadata": {},
   "source": [
    "### Completamente compatibile con Flask"
   ]
  },
  {
   "cell_type": "code",
   "execution_count": null,
   "id": "f861339d",
   "metadata": {},
   "outputs": [],
   "source": [
    "\"\"\"\n",
    "nome file: myapp.py\n",
    "\"\"\"\n",
    "\n",
    "appFlask = Flask(__name__)\n",
    "\n",
    "client = Celery(appFlask.name, ............)\n",
    "\n",
    "\n",
    "\n",
    "@client.task(time_limit=3600)\n",
    "def add(x, y):\n",
    "    return x + y\n",
    "\n",
    "@app.route('/somma', methods=['GET','POST'])\n",
    "def somma():\n",
    "    \n",
    "    \"\"\"\n",
    "    codice\n",
    "    \"\"\"\n",
    "    \n",
    "    add.apply_async([args])\n",
    "    \n",
    "    return \"Ok\"\n",
    "    \n",
    "\n",
    "\n",
    "\n",
    "if __name__ == '__main__':\n",
    "    app.run(debug=True)"
   ]
  },
  {
   "cell_type": "markdown",
   "id": "bc77264b",
   "metadata": {},
   "source": [
    "### Lanciare lo script e il sistema di monitoring (flower)"
   ]
  },
  {
   "cell_type": "markdown",
   "id": "b3bc8f04",
   "metadata": {},
   "source": [
    "```celery -A myapp worker -E --loglevel=INFO```"
   ]
  },
  {
   "cell_type": "markdown",
   "id": "7cde854b",
   "metadata": {},
   "source": [
    "```celery flower --broker=redis://172.17.0.1:6379/0```"
   ]
  }
 ],
 "metadata": {
  "kernelspec": {
   "display_name": "Python 3",
   "language": "python",
   "name": "python3"
  },
  "language_info": {
   "codemirror_mode": {
    "name": "ipython",
    "version": 3
   },
   "file_extension": ".py",
   "mimetype": "text/x-python",
   "name": "python",
   "nbconvert_exporter": "python",
   "pygments_lexer": "ipython3",
   "version": "3.8.5"
  }
 },
 "nbformat": 4,
 "nbformat_minor": 5
}
