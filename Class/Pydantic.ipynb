{
 "cells": [
  {
   "cell_type": "code",
   "execution_count": 5,
   "id": "64cc3015",
   "metadata": {},
   "outputs": [],
   "source": [
    "# !pip3 install pydantic"
   ]
  },
  {
   "cell_type": "code",
   "execution_count": 4,
   "id": "3e1bf0b1",
   "metadata": {},
   "outputs": [],
   "source": [
    "from datetime import datetime\n",
    "from typing import List, Optional\n",
    "from pydantic import BaseModel"
   ]
  },
  {
   "cell_type": "code",
   "execution_count": 7,
   "id": "9262857a",
   "metadata": {},
   "outputs": [],
   "source": [
    "class User(BaseModel):\n",
    "    id: int\n",
    "    name : 'Joe'\n",
    "    signup_time : Optional[datetime] = None\n",
    "    friends : List[int] = []"
   ]
  },
  {
   "cell_type": "code",
   "execution_count": null,
   "id": "c7c58f9c",
   "metadata": {},
   "outputs": [],
   "source": []
  }
 ],
 "metadata": {
  "kernelspec": {
   "display_name": "Python 3",
   "language": "python",
   "name": "python3"
  },
  "language_info": {
   "codemirror_mode": {
    "name": "ipython",
    "version": 3
   },
   "file_extension": ".py",
   "mimetype": "text/x-python",
   "name": "python",
   "nbconvert_exporter": "python",
   "pygments_lexer": "ipython3",
   "version": "3.8.5"
  }
 },
 "nbformat": 4,
 "nbformat_minor": 5
}
