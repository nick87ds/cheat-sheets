{
 "cells": [
  {
   "cell_type": "code",
   "execution_count": 1,
   "id": "2174e3b6",
   "metadata": {},
   "outputs": [],
   "source": [
    "import functools"
   ]
  },
  {
   "cell_type": "code",
   "execution_count": 2,
   "id": "1be34da0",
   "metadata": {},
   "outputs": [],
   "source": [
    "def decorator(func):\n",
    "    \n",
    "    @functools.wraps(func)\n",
    "    def wrap_decor(*args, **kwargs):\n",
    "        \n",
    "        # prima\n",
    "        \n",
    "        value = func(*args, **kwargs)\n",
    "        \n",
    "        # dopo\n",
    "        \n",
    "        return value\n",
    "    return wrap_decor"
   ]
  },
  {
   "cell_type": "code",
   "execution_count": null,
   "id": "470f781a",
   "metadata": {},
   "outputs": [],
   "source": []
  },
  {
   "cell_type": "code",
   "execution_count": 3,
   "id": "33394602",
   "metadata": {},
   "outputs": [],
   "source": [
    "import time"
   ]
  },
  {
   "cell_type": "code",
   "execution_count": 4,
   "id": "294f4023",
   "metadata": {},
   "outputs": [],
   "source": [
    "def timer(func):\n",
    "    \n",
    "    @functools.wraps(func)\n",
    "    def wrapper_timer(*args, **kwargs):\n",
    "        \n",
    "        start_time = time.perf_counter()\n",
    "        \n",
    "        value = func(*args, **kwargs)\n",
    "        \n",
    "        end_time = time.perf_counter()\n",
    "        \n",
    "        run_time = end_time - start_time\n",
    "        \n",
    "        print(f\"Finished {func.__name__!r} in {run_time:.4f} secs\")\n",
    "        \n",
    "        return value\n",
    "    \n",
    "    return wrapper_timer"
   ]
  },
  {
   "cell_type": "code",
   "execution_count": 10,
   "id": "7c571576",
   "metadata": {},
   "outputs": [],
   "source": [
    "@timer\n",
    "def wstime(num):\n",
    "    for i in range(num):\n",
    "        sum((i**2 for i in range(num)))"
   ]
  },
  {
   "cell_type": "code",
   "execution_count": 20,
   "id": "669041a6",
   "metadata": {},
   "outputs": [
    {
     "name": "stdout",
     "output_type": "stream",
     "text": [
      "Finished 'wstime' in 3.6429 secs\n"
     ]
    }
   ],
   "source": [
    "wstime(3000)"
   ]
  }
 ],
 "metadata": {
  "kernelspec": {
   "display_name": "Python 3",
   "language": "python",
   "name": "python3"
  },
  "language_info": {
   "codemirror_mode": {
    "name": "ipython",
    "version": 3
   },
   "file_extension": ".py",
   "mimetype": "text/x-python",
   "name": "python",
   "nbconvert_exporter": "python",
   "pygments_lexer": "ipython3",
   "version": "3.8.5"
  }
 },
 "nbformat": 4,
 "nbformat_minor": 5
}
