{
 "cells": [
  {
   "cell_type": "code",
   "execution_count": 1,
   "id": "479d2593",
   "metadata": {},
   "outputs": [],
   "source": [
    "import spacy\n",
    "\n",
    "from spacy.tokens import Doc\n",
    "\n",
    "from spacy.language import Language\n",
    "\n",
    "from spacy import displacy"
   ]
  },
  {
   "cell_type": "code",
   "execution_count": 2,
   "id": "b31bbff9",
   "metadata": {},
   "outputs": [
    {
     "data": {
      "text/plain": [
       "'3.0.3'"
      ]
     },
     "execution_count": 2,
     "metadata": {},
     "output_type": "execute_result"
    }
   ],
   "source": [
    "spacy.__version__"
   ]
  },
  {
   "cell_type": "code",
   "execution_count": 192,
   "id": "92b9de09",
   "metadata": {},
   "outputs": [
    {
     "name": "stdout",
     "output_type": "stream",
     "text": [
      "['tok2vec', 'morphologizer', 'tagger', 'parser', 'ner', 'attribute_ruler', 'lemmatizer', 'merge_entities']\n"
     ]
    }
   ],
   "source": [
    "nlp = spacy.load('it_core_news_sm')\n",
    "\n",
    "nlp.add_pipe(\"merge_entities\")\n",
    "# nlp.add_pipe(\"merge_noun_chunks\")\n",
    "\n",
    "print(nlp.pipe_names)\n",
    "\n",
    "# nlp.pipeline"
   ]
  },
  {
   "cell_type": "markdown",
   "id": "e47e4f78",
   "metadata": {},
   "source": [
    "## Preparazione testo"
   ]
  },
  {
   "cell_type": "code",
   "execution_count": 4,
   "id": "7b32576f",
   "metadata": {},
   "outputs": [],
   "source": [
    "frase = \"Mi piace la città di New York. Invece non mi piace Stoccolma\"\n",
    "\n",
    "doc = nlp(frase)"
   ]
  },
  {
   "cell_type": "code",
   "execution_count": 5,
   "id": "f72b38fd",
   "metadata": {},
   "outputs": [
    {
     "data": {
      "text/plain": [
       "['Mi',\n",
       " 'piace',\n",
       " 'la',\n",
       " 'città',\n",
       " 'di',\n",
       " 'New York',\n",
       " '.',\n",
       " 'Invece',\n",
       " 'non',\n",
       " 'mi',\n",
       " 'piace',\n",
       " 'Stoccolma']"
      ]
     },
     "execution_count": 5,
     "metadata": {},
     "output_type": "execute_result"
    }
   ],
   "source": [
    "[token.text for token in doc]"
   ]
  },
  {
   "cell_type": "code",
   "execution_count": 6,
   "id": "57b60590",
   "metadata": {},
   "outputs": [
    {
     "name": "stdout",
     "output_type": "stream",
     "text": [
      "text -> Mi\n",
      " lemma -> Mi\n",
      "POS -> PRON\n",
      "tag -> PC\n",
      "dep -> iobj\n",
      "morph -> Clitic=Yes|Number=Sing|Person=1|PronType=Prs\n",
      "shape -> Xx\n",
      "is_alpha -> True\n",
      "is_stop -> True\n",
      " \n",
      "\n",
      "text -> piace\n",
      " lemma -> piacere\n",
      "POS -> VERB\n",
      "tag -> V\n",
      "dep -> ROOT\n",
      "morph -> Mood=Ind|Number=Sing|Person=3|Tense=Pres|VerbForm=Fin\n",
      "shape -> xxxx\n",
      "is_alpha -> True\n",
      "is_stop -> False\n",
      " \n",
      "\n",
      "text -> la\n",
      " lemma -> la\n",
      "POS -> DET\n",
      "tag -> RD\n",
      "dep -> det\n",
      "morph -> Definite=Def|Gender=Fem|Number=Sing|PronType=Art\n",
      "shape -> xx\n",
      "is_alpha -> True\n",
      "is_stop -> True\n",
      " \n",
      "\n",
      "text -> città\n",
      " lemma -> città\n",
      "POS -> NOUN\n",
      "tag -> S\n",
      "dep -> nsubj\n",
      "morph -> Gender=Fem\n",
      "shape -> xxxx\n",
      "is_alpha -> True\n",
      "is_stop -> True\n",
      " \n",
      "\n",
      "text -> di\n",
      " lemma -> di\n",
      "POS -> ADP\n",
      "tag -> E\n",
      "dep -> case\n",
      "morph -> \n",
      "shape -> xx\n",
      "is_alpha -> True\n",
      "is_stop -> True\n",
      " \n",
      "\n",
      "text -> New York\n",
      " lemma -> New York\n",
      "POS -> PROPN\n",
      "tag -> SP\n",
      "dep -> nmod\n",
      "morph -> \n",
      "shape -> Xxx Xxxx\n",
      "is_alpha -> False\n",
      "is_stop -> False\n",
      " \n",
      "\n",
      "text -> .\n",
      " lemma -> .\n",
      "POS -> PUNCT\n",
      "tag -> FS\n",
      "dep -> punct\n",
      "morph -> \n",
      "shape -> .\n",
      "is_alpha -> False\n",
      "is_stop -> False\n",
      " \n",
      "\n",
      "text -> Invece\n",
      " lemma -> Invece\n",
      "POS -> ADV\n",
      "tag -> B\n",
      "dep -> advmod\n",
      "morph -> \n",
      "shape -> Xxxxx\n",
      "is_alpha -> True\n",
      "is_stop -> True\n",
      " \n",
      "\n",
      "text -> non\n",
      " lemma -> non\n",
      "POS -> ADV\n",
      "tag -> BN\n",
      "dep -> advmod\n",
      "morph -> PronType=Neg\n",
      "shape -> xxx\n",
      "is_alpha -> True\n",
      "is_stop -> True\n",
      " \n",
      "\n",
      "text -> mi\n",
      " lemma -> mi\n",
      "POS -> PRON\n",
      "tag -> PC\n",
      "dep -> iobj\n",
      "morph -> Clitic=Yes|Number=Sing|Person=1|PronType=Prs\n",
      "shape -> xx\n",
      "is_alpha -> True\n",
      "is_stop -> True\n",
      " \n",
      "\n",
      "text -> piace\n",
      " lemma -> piacere\n",
      "POS -> VERB\n",
      "tag -> V\n",
      "dep -> ROOT\n",
      "morph -> Mood=Ind|Number=Sing|Person=3|Tense=Pres|VerbForm=Fin\n",
      "shape -> xxxx\n",
      "is_alpha -> True\n",
      "is_stop -> False\n",
      " \n",
      "\n",
      "text -> Stoccolma\n",
      " lemma -> Stoccolma\n",
      "POS -> PROPN\n",
      "tag -> SP\n",
      "dep -> nsubj\n",
      "morph -> \n",
      "shape -> Xxxxx\n",
      "is_alpha -> True\n",
      "is_stop -> False\n",
      " \n",
      "\n"
     ]
    }
   ],
   "source": [
    "for token in doc:\n",
    "    print(f\"text -> {token.text}\\n\", \\\n",
    "          f\"lemma -> {token.lemma_}\\n\" \\\n",
    "          f\"POS -> {token.pos_}\\n\" \\\n",
    "          f\"tag -> {token.tag_}\\n\" \\\n",
    "          f\"dep -> {token.dep_}\\n\" \\\n",
    "          f\"morph -> {token.morph}\\n\" \\\n",
    "          f\"shape -> {token.shape_}\\n\" \\\n",
    "          f\"is_alpha -> {token.is_alpha}\\n\" \\\n",
    "          f\"is_stop -> {token.is_stop}\\n\" \\\n",
    "          ,\"\\n\")"
   ]
  },
  {
   "cell_type": "code",
   "execution_count": 7,
   "id": "426f266a",
   "metadata": {},
   "outputs": [],
   "source": [
    "def get_something(doc):\n",
    "    \n",
    "    lista = list()\n",
    "    \n",
    "    for token in doc:\n",
    "        if token.pos_ == 'VERB':\n",
    "            lista.append(token.lemma_)\n",
    "    \n",
    "    return lista"
   ]
  },
  {
   "cell_type": "code",
   "execution_count": 8,
   "id": "07fe975f",
   "metadata": {},
   "outputs": [],
   "source": [
    "Doc.set_extension(\"extension_2\", getter=get_something)"
   ]
  },
  {
   "cell_type": "code",
   "execution_count": 9,
   "id": "36e0908d",
   "metadata": {},
   "outputs": [
    {
     "data": {
      "text/plain": [
       "['piacere', 'piacere']"
      ]
     },
     "execution_count": 9,
     "metadata": {},
     "output_type": "execute_result"
    }
   ],
   "source": [
    "doc = nlp(frase)\n",
    "\n",
    "doc._.extension_2"
   ]
  },
  {
   "cell_type": "code",
   "execution_count": 10,
   "id": "25476d79",
   "metadata": {},
   "outputs": [],
   "source": [
    "# Doc.set_extension(\"extension_1\", default=[])"
   ]
  },
  {
   "cell_type": "code",
   "execution_count": 11,
   "id": "d394d039",
   "metadata": {},
   "outputs": [],
   "source": [
    "# @Language.component('custom_funct')\n",
    "# def custom_funct(doc):\n",
    "    \n",
    "#     print(\"Do something\")\n",
    "    \n",
    "#     lemmas = []\n",
    "    \n",
    "#     for token in doc:\n",
    "#         lemmas.append(get_lemma_if_verb(token))\n",
    "    \n",
    "#     return lemmas"
   ]
  },
  {
   "cell_type": "code",
   "execution_count": 12,
   "id": "01aad85f",
   "metadata": {},
   "outputs": [],
   "source": [
    "# nlp.add_pipe('custom_funct')#, first=True)\n",
    "\n",
    "# nlp.to_disk()"
   ]
  },
  {
   "cell_type": "code",
   "execution_count": null,
   "id": "ecc91256",
   "metadata": {},
   "outputs": [],
   "source": []
  },
  {
   "cell_type": "code",
   "execution_count": null,
   "id": "7011a99e",
   "metadata": {},
   "outputs": [],
   "source": []
  },
  {
   "cell_type": "code",
   "execution_count": null,
   "id": "f96668f7",
   "metadata": {},
   "outputs": [],
   "source": []
  },
  {
   "cell_type": "code",
   "execution_count": null,
   "id": "aae0f7d7",
   "metadata": {},
   "outputs": [],
   "source": []
  },
  {
   "cell_type": "code",
   "execution_count": 13,
   "id": "39dad50f",
   "metadata": {},
   "outputs": [],
   "source": [
    "# doc = nlp(frase)\n",
    "\n",
    "# doc._"
   ]
  },
  {
   "cell_type": "code",
   "execution_count": 14,
   "id": "a63811fd",
   "metadata": {},
   "outputs": [],
   "source": [
    "# nlp.pipe_names"
   ]
  },
  {
   "cell_type": "code",
   "execution_count": 15,
   "id": "70150bf9",
   "metadata": {},
   "outputs": [],
   "source": [
    "# NER = nlp.get_pipe(\"ner\")"
   ]
  },
  {
   "cell_type": "code",
   "execution_count": 16,
   "id": "6db87e67",
   "metadata": {},
   "outputs": [],
   "source": [
    "# from spacy.tokens import NER"
   ]
  },
  {
   "cell_type": "code",
   "execution_count": 17,
   "id": "757c5ea5",
   "metadata": {},
   "outputs": [],
   "source": [
    "# testo = \"\"\"\n",
    "# La disciplina del pubblico impiego \n",
    "\n",
    "# La privatizzazione del pubblico impiego ha reso necessaria un'opera di coordinamento e diaresetto della disciplina che è contenuta nel testo unico dei pubblico impiego (TUPI) D.Lgs. 165/2001.\n",
    "# Tale disciplina si applica tutte le pubbliche amministrazioni fatta eccezione per i magistrati ordinari, amministrative contabili, avvocati procuratori dello Stato, personale militare, personale della cariera diplomatica e prefettizia.\n",
    "\n",
    "# Tra le più importanti riforme c'è quella di Brunetta (2009): responsabilizzare maggiormente dipendendi pubblici, incentivare selettivamente le migliori prestazioni (meritocrazia), contrastare la scarza produttività e l'assenteismo, agevolare la mobilità del personale\n",
    "\n",
    "# Successivamente si è avuta la riforma Madia (2016) che tra le varie ha portato: una semplificazione in materia di valutazione dipendendi pubblici, innovazione in materia della responsibilità disciplinare decreto \"anti furbetti del cartellino\".\n",
    "\n",
    "# Successivi interventi del governo hanno portato, tra le varie, il superamento della dotazione organica attraveso lo strumento \"del piano triennale dei fabbisogni\"; stabilire, a regime, il divieto di stipulare contratti di collaborazione...\n",
    "\n",
    "# In ultimo con la riforma Bongiorno (2019), cd. legge concretezza si voluto incidere sull'organizzazione del lavoro pubblico istituendo presso il dipartimento della funzione pubblica il cosidetto nucleo della concretezza ovvero uno organismo deputato alle azioni concrete di miglioramento dell'efficenza amministrativa. Strumento fondamentale di questo organismo è il piano triennale delle azioni concrete per l'efficienza delle pubbliche amministrazioni che viene predisposto annualmente dal Dipertimento della funzione pubblica.\n",
    "\n",
    "# Attraverso il decreto cura Italia è previsto che fino alla cessazione dello stato di emergenza ovvero fino ad una data antecedente stabilita con decreto il lavoro agile è la modalità ordinaria di svolgimento della prestazione lavorativa nelle pubblica amministrazioni.\n",
    "\n",
    "# Per tanto le leggi e regolamenti che delineano la struttura degli apparati pubblici restano di connotazione pubblicistica, mentre gli atti che riguardano il funzionamento degli uffici e le gestione dei rapporti di lavoro sono di connottazione privatistica (gestione come datore di lavoro privato).\n",
    "# \"\"\""
   ]
  },
  {
   "cell_type": "code",
   "execution_count": 18,
   "id": "2b0ec4dd",
   "metadata": {},
   "outputs": [],
   "source": [
    "# doc = nlp(testo)"
   ]
  },
  {
   "cell_type": "markdown",
   "id": "436569c4",
   "metadata": {},
   "source": [
    "## Syntax iterators"
   ]
  },
  {
   "cell_type": "markdown",
   "id": "c3b32921",
   "metadata": {},
   "source": [
    "### Sentences"
   ]
  },
  {
   "cell_type": "code",
   "execution_count": 19,
   "id": "d199715f",
   "metadata": {},
   "outputs": [
    {
     "data": {
      "text/plain": [
       "['Mi piace la città di New York.', 'Invece non mi piace Stoccolma']"
      ]
     },
     "execution_count": 19,
     "metadata": {},
     "output_type": "execute_result"
    }
   ],
   "source": [
    "[token.text for token in doc.sents]"
   ]
  },
  {
   "cell_type": "markdown",
   "id": "35e56c61",
   "metadata": {},
   "source": [
    "### Base noun phrases"
   ]
  },
  {
   "cell_type": "code",
   "execution_count": 20,
   "id": "299e258e",
   "metadata": {},
   "outputs": [
    {
     "data": {
      "text/plain": [
       "\"\\nThe 'noun_chunks' syntax iterator is not implemented for language 'it'\\n\""
      ]
     },
     "execution_count": 20,
     "metadata": {},
     "output_type": "execute_result"
    }
   ],
   "source": [
    "\"\"\"\n",
    "The 'noun_chunks' syntax iterator is not implemented for language 'it'\n",
    "\"\"\"\n",
    "\n",
    "# [chunk.text for chunk in doc.noun_chunks]"
   ]
  },
  {
   "cell_type": "markdown",
   "id": "c8f1f13d",
   "metadata": {},
   "source": [
    "## Lemma"
   ]
  },
  {
   "cell_type": "code",
   "execution_count": 21,
   "id": "d6c18ed7",
   "metadata": {},
   "outputs": [
    {
     "data": {
      "text/plain": [
       "[('Mi', 'Mi'),\n",
       " ('piace', 'piacere'),\n",
       " ('la', 'la'),\n",
       " ('città', 'città'),\n",
       " ('di', 'di'),\n",
       " ('New York', 'New York'),\n",
       " ('.', '.'),\n",
       " ('Invece', 'Invece'),\n",
       " ('non', 'non'),\n",
       " ('mi', 'mi'),\n",
       " ('piace', 'piacere'),\n",
       " ('Stoccolma', 'Stoccolma')]"
      ]
     },
     "execution_count": 21,
     "metadata": {},
     "output_type": "execute_result"
    }
   ],
   "source": [
    "[(token.text, token.lemma_) for token in doc]"
   ]
  },
  {
   "cell_type": "code",
   "execution_count": 22,
   "id": "7ee67842",
   "metadata": {},
   "outputs": [],
   "source": [
    "def get_lemma_if_verb(token):\n",
    "    if token.pos_ == 'VERB':\n",
    "        return token.lemma_"
   ]
  },
  {
   "cell_type": "code",
   "execution_count": 23,
   "id": "9b2b6a7a",
   "metadata": {},
   "outputs": [
    {
     "name": "stdout",
     "output_type": "stream",
     "text": [
      "piace --> piacere\n",
      "piace --> piacere\n"
     ]
    }
   ],
   "source": [
    "for token in doc:\n",
    "    if token.pos_ == 'VERB':\n",
    "        print(token.text, \"-->\", token.lemma_)"
   ]
  },
  {
   "cell_type": "code",
   "execution_count": 24,
   "id": "a2c5a5c5",
   "metadata": {},
   "outputs": [
    {
     "data": {
      "text/plain": [
       "['piacere', 'piacere']"
      ]
     },
     "execution_count": 24,
     "metadata": {},
     "output_type": "execute_result"
    }
   ],
   "source": [
    "[get_lemma_if_verb(token) for token in doc if get_lemma_if_verb(token) is not None]"
   ]
  },
  {
   "cell_type": "code",
   "execution_count": 25,
   "id": "d787862d",
   "metadata": {},
   "outputs": [
    {
     "data": {
      "text/plain": [
       "['Non è un verbo',\n",
       " 'piacere',\n",
       " 'Non è un verbo',\n",
       " 'Non è un verbo',\n",
       " 'Non è un verbo',\n",
       " 'Non è un verbo',\n",
       " 'Non è un verbo',\n",
       " 'Non è un verbo',\n",
       " 'Non è un verbo',\n",
       " 'Non è un verbo',\n",
       " 'piacere',\n",
       " 'Non è un verbo']"
      ]
     },
     "execution_count": 25,
     "metadata": {},
     "output_type": "execute_result"
    }
   ],
   "source": [
    "[get_lemma_if_verb(token) if get_lemma_if_verb(token) is not None else \"Non è un verbo\" for token in doc]"
   ]
  },
  {
   "cell_type": "markdown",
   "id": "a226785b",
   "metadata": {},
   "source": [
    "## Part-of-speech tags (POS)"
   ]
  },
  {
   "cell_type": "code",
   "execution_count": 26,
   "id": "f2dd39c7",
   "metadata": {},
   "outputs": [
    {
     "data": {
      "text/plain": [
       "[('Mi', 'PRON', 'PC'),\n",
       " ('piace', 'VERB', 'V'),\n",
       " ('la', 'DET', 'RD'),\n",
       " ('città', 'NOUN', 'S'),\n",
       " ('di', 'ADP', 'E'),\n",
       " ('New York', 'PROPN', 'SP'),\n",
       " ('.', 'PUNCT', 'FS'),\n",
       " ('Invece', 'ADV', 'B'),\n",
       " ('non', 'ADV', 'BN'),\n",
       " ('mi', 'PRON', 'PC'),\n",
       " ('piace', 'VERB', 'V'),\n",
       " ('Stoccolma', 'PROPN', 'SP')]"
      ]
     },
     "execution_count": 26,
     "metadata": {},
     "output_type": "execute_result"
    }
   ],
   "source": [
    "[(token.text, token.pos_, token.tag_) for token in doc]"
   ]
  },
  {
   "cell_type": "markdown",
   "id": "beb03172",
   "metadata": {},
   "source": [
    "### Specificare i significati dei POS e Tag"
   ]
  },
  {
   "cell_type": "code",
   "execution_count": 27,
   "id": "4d6128e5",
   "metadata": {},
   "outputs": [
    {
     "data": {
      "text/plain": [
       "'adjective'"
      ]
     },
     "execution_count": 27,
     "metadata": {},
     "output_type": "execute_result"
    }
   ],
   "source": [
    "spacy.explain(\"ADJ\")"
   ]
  },
  {
   "cell_type": "code",
   "execution_count": 28,
   "id": "ed212987",
   "metadata": {},
   "outputs": [
    {
     "data": {
      "text/plain": [
       "[('PRON', 'pronoun'),\n",
       " ('VERB', 'verb'),\n",
       " ('DET', 'determiner'),\n",
       " ('NOUN', 'noun'),\n",
       " ('ADP', 'adposition'),\n",
       " ('PROPN', 'proper noun'),\n",
       " ('PUNCT', 'punctuation'),\n",
       " ('ADV', 'adverb'),\n",
       " ('ADV', 'adverb'),\n",
       " ('PRON', 'pronoun'),\n",
       " ('VERB', 'verb'),\n",
       " ('PROPN', 'proper noun')]"
      ]
     },
     "execution_count": 28,
     "metadata": {},
     "output_type": "execute_result"
    }
   ],
   "source": [
    "[(token.pos_, spacy.explain(token.pos_)) for token in doc]"
   ]
  },
  {
   "cell_type": "markdown",
   "id": "33d65a0a",
   "metadata": {},
   "source": [
    "## Syntactic dependencies"
   ]
  },
  {
   "cell_type": "code",
   "execution_count": 29,
   "id": "0b68fcb9",
   "metadata": {},
   "outputs": [
    {
     "data": {
      "text/plain": [
       "[('Mi', 'iobj'),\n",
       " ('piace', 'ROOT'),\n",
       " ('la', 'det'),\n",
       " ('città', 'nsubj'),\n",
       " ('di', 'case'),\n",
       " ('New York', 'nmod'),\n",
       " ('.', 'punct'),\n",
       " ('Invece', 'advmod'),\n",
       " ('non', 'advmod'),\n",
       " ('mi', 'iobj'),\n",
       " ('piace', 'ROOT'),\n",
       " ('Stoccolma', 'nsubj')]"
      ]
     },
     "execution_count": 29,
     "metadata": {},
     "output_type": "execute_result"
    }
   ],
   "source": [
    "[(token.text, token.dep_) for token in doc]"
   ]
  },
  {
   "cell_type": "code",
   "execution_count": 30,
   "id": "8eee31fa",
   "metadata": {},
   "outputs": [
    {
     "data": {
      "text/plain": [
       "[('Mi', 'piace'),\n",
       " ('piace', 'piace'),\n",
       " ('la', 'città'),\n",
       " ('città', 'piace'),\n",
       " ('di', 'New York'),\n",
       " ('New York', 'città'),\n",
       " ('.', 'piace'),\n",
       " ('Invece', 'piace'),\n",
       " ('non', 'piace'),\n",
       " ('mi', 'piace'),\n",
       " ('piace', 'piace'),\n",
       " ('Stoccolma', 'piace')]"
      ]
     },
     "execution_count": 30,
     "metadata": {},
     "output_type": "execute_result"
    }
   ],
   "source": [
    "[(token.text, token.head.text) for token in doc]"
   ]
  },
  {
   "cell_type": "markdown",
   "id": "4981f152",
   "metadata": {},
   "source": [
    "## Named entities"
   ]
  },
  {
   "cell_type": "code",
   "execution_count": 31,
   "id": "9a9138fc",
   "metadata": {},
   "outputs": [
    {
     "data": {
      "text/plain": [
       "[('New York', 'LOC'), ('Stoccolma', 'LOC')]"
      ]
     },
     "execution_count": 31,
     "metadata": {},
     "output_type": "execute_result"
    }
   ],
   "source": [
    "[(ent.text, ent.label_) for ent in doc.ents]"
   ]
  },
  {
   "cell_type": "code",
   "execution_count": 32,
   "id": "89b22704",
   "metadata": {},
   "outputs": [
    {
     "data": {
      "text/html": [
       "<span class=\"tex2jax_ignore\"><div class=\"entities\" style=\"line-height: 2.5; direction: ltr\">Mi piace la città di \n",
       "<mark class=\"entity\" style=\"background: #ff9561; padding: 0.45em 0.6em; margin: 0 0.25em; line-height: 1; border-radius: 0.35em;\">\n",
       "    New York\n",
       "    <span style=\"font-size: 0.8em; font-weight: bold; line-height: 1; border-radius: 0.35em; vertical-align: middle; margin-left: 0.5rem\">LOC</span>\n",
       "</mark>\n",
       ". Invece non mi piace \n",
       "<mark class=\"entity\" style=\"background: #ff9561; padding: 0.45em 0.6em; margin: 0 0.25em; line-height: 1; border-radius: 0.35em;\">\n",
       "    Stoccolma\n",
       "    <span style=\"font-size: 0.8em; font-weight: bold; line-height: 1; border-radius: 0.35em; vertical-align: middle; margin-left: 0.5rem\">LOC</span>\n",
       "</mark>\n",
       "</div></span>"
      ],
      "text/plain": [
       "<IPython.core.display.HTML object>"
      ]
     },
     "metadata": {},
     "output_type": "display_data"
    }
   ],
   "source": [
    "displacy.render(doc, style='ent')"
   ]
  },
  {
   "cell_type": "code",
   "execution_count": null,
   "id": "e8c6bf44",
   "metadata": {},
   "outputs": [],
   "source": []
  },
  {
   "cell_type": "code",
   "execution_count": null,
   "id": "ba4eacd9",
   "metadata": {},
   "outputs": [],
   "source": []
  },
  {
   "cell_type": "code",
   "execution_count": null,
   "id": "0748e748",
   "metadata": {},
   "outputs": [],
   "source": []
  },
  {
   "cell_type": "code",
   "execution_count": null,
   "id": "f398cf2b",
   "metadata": {},
   "outputs": [],
   "source": []
  },
  {
   "cell_type": "code",
   "execution_count": 33,
   "id": "d0f10643",
   "metadata": {},
   "outputs": [
    {
     "data": {
      "text/html": [
       "<span class=\"tex2jax_ignore\"><svg xmlns=\"http://www.w3.org/2000/svg\" xmlns:xlink=\"http://www.w3.org/1999/xlink\" xml:lang=\"it\" id=\"b1e1fa2383bf4083ac60558ca05db361-0\" class=\"displacy\" width=\"1975\" height=\"399.5\" direction=\"ltr\" style=\"max-width: none; height: 399.5px; color: #000000; background: #ffffff; font-family: Arial; direction: ltr\">\n",
       "<text class=\"displacy-token\" fill=\"currentColor\" text-anchor=\"middle\" y=\"309.5\">\n",
       "    <tspan class=\"displacy-word\" fill=\"currentColor\" x=\"50\">Mi</tspan>\n",
       "    <tspan class=\"displacy-tag\" dy=\"2em\" fill=\"currentColor\" x=\"50\">PRON</tspan>\n",
       "</text>\n",
       "\n",
       "<text class=\"displacy-token\" fill=\"currentColor\" text-anchor=\"middle\" y=\"309.5\">\n",
       "    <tspan class=\"displacy-word\" fill=\"currentColor\" x=\"225\">piace</tspan>\n",
       "    <tspan class=\"displacy-tag\" dy=\"2em\" fill=\"currentColor\" x=\"225\">VERB</tspan>\n",
       "</text>\n",
       "\n",
       "<text class=\"displacy-token\" fill=\"currentColor\" text-anchor=\"middle\" y=\"309.5\">\n",
       "    <tspan class=\"displacy-word\" fill=\"currentColor\" x=\"400\">la</tspan>\n",
       "    <tspan class=\"displacy-tag\" dy=\"2em\" fill=\"currentColor\" x=\"400\">DET</tspan>\n",
       "</text>\n",
       "\n",
       "<text class=\"displacy-token\" fill=\"currentColor\" text-anchor=\"middle\" y=\"309.5\">\n",
       "    <tspan class=\"displacy-word\" fill=\"currentColor\" x=\"575\">città</tspan>\n",
       "    <tspan class=\"displacy-tag\" dy=\"2em\" fill=\"currentColor\" x=\"575\">NOUN</tspan>\n",
       "</text>\n",
       "\n",
       "<text class=\"displacy-token\" fill=\"currentColor\" text-anchor=\"middle\" y=\"309.5\">\n",
       "    <tspan class=\"displacy-word\" fill=\"currentColor\" x=\"750\">di</tspan>\n",
       "    <tspan class=\"displacy-tag\" dy=\"2em\" fill=\"currentColor\" x=\"750\">ADP</tspan>\n",
       "</text>\n",
       "\n",
       "<text class=\"displacy-token\" fill=\"currentColor\" text-anchor=\"middle\" y=\"309.5\">\n",
       "    <tspan class=\"displacy-word\" fill=\"currentColor\" x=\"925\">New York.</tspan>\n",
       "    <tspan class=\"displacy-tag\" dy=\"2em\" fill=\"currentColor\" x=\"925\">PROPN</tspan>\n",
       "</text>\n",
       "\n",
       "<text class=\"displacy-token\" fill=\"currentColor\" text-anchor=\"middle\" y=\"309.5\">\n",
       "    <tspan class=\"displacy-word\" fill=\"currentColor\" x=\"1100\">Invece</tspan>\n",
       "    <tspan class=\"displacy-tag\" dy=\"2em\" fill=\"currentColor\" x=\"1100\">ADV</tspan>\n",
       "</text>\n",
       "\n",
       "<text class=\"displacy-token\" fill=\"currentColor\" text-anchor=\"middle\" y=\"309.5\">\n",
       "    <tspan class=\"displacy-word\" fill=\"currentColor\" x=\"1275\">non</tspan>\n",
       "    <tspan class=\"displacy-tag\" dy=\"2em\" fill=\"currentColor\" x=\"1275\">ADV</tspan>\n",
       "</text>\n",
       "\n",
       "<text class=\"displacy-token\" fill=\"currentColor\" text-anchor=\"middle\" y=\"309.5\">\n",
       "    <tspan class=\"displacy-word\" fill=\"currentColor\" x=\"1450\">mi</tspan>\n",
       "    <tspan class=\"displacy-tag\" dy=\"2em\" fill=\"currentColor\" x=\"1450\">PRON</tspan>\n",
       "</text>\n",
       "\n",
       "<text class=\"displacy-token\" fill=\"currentColor\" text-anchor=\"middle\" y=\"309.5\">\n",
       "    <tspan class=\"displacy-word\" fill=\"currentColor\" x=\"1625\">piace</tspan>\n",
       "    <tspan class=\"displacy-tag\" dy=\"2em\" fill=\"currentColor\" x=\"1625\">VERB</tspan>\n",
       "</text>\n",
       "\n",
       "<text class=\"displacy-token\" fill=\"currentColor\" text-anchor=\"middle\" y=\"309.5\">\n",
       "    <tspan class=\"displacy-word\" fill=\"currentColor\" x=\"1800\">Stoccolma</tspan>\n",
       "    <tspan class=\"displacy-tag\" dy=\"2em\" fill=\"currentColor\" x=\"1800\">PROPN</tspan>\n",
       "</text>\n",
       "\n",
       "<g class=\"displacy-arrow\">\n",
       "    <path class=\"displacy-arc\" id=\"arrow-b1e1fa2383bf4083ac60558ca05db361-0-0\" stroke-width=\"2px\" d=\"M70,264.5 C70,177.0 215.0,177.0 215.0,264.5\" fill=\"none\" stroke=\"currentColor\"/>\n",
       "    <text dy=\"1.25em\" style=\"font-size: 0.8em; letter-spacing: 1px\">\n",
       "        <textPath xlink:href=\"#arrow-b1e1fa2383bf4083ac60558ca05db361-0-0\" class=\"displacy-label\" startOffset=\"50%\" side=\"left\" fill=\"currentColor\" text-anchor=\"middle\">iobj</textPath>\n",
       "    </text>\n",
       "    <path class=\"displacy-arrowhead\" d=\"M70,266.5 L62,254.5 78,254.5\" fill=\"currentColor\"/>\n",
       "</g>\n",
       "\n",
       "<g class=\"displacy-arrow\">\n",
       "    <path class=\"displacy-arc\" id=\"arrow-b1e1fa2383bf4083ac60558ca05db361-0-1\" stroke-width=\"2px\" d=\"M420,264.5 C420,177.0 565.0,177.0 565.0,264.5\" fill=\"none\" stroke=\"currentColor\"/>\n",
       "    <text dy=\"1.25em\" style=\"font-size: 0.8em; letter-spacing: 1px\">\n",
       "        <textPath xlink:href=\"#arrow-b1e1fa2383bf4083ac60558ca05db361-0-1\" class=\"displacy-label\" startOffset=\"50%\" side=\"left\" fill=\"currentColor\" text-anchor=\"middle\">det</textPath>\n",
       "    </text>\n",
       "    <path class=\"displacy-arrowhead\" d=\"M420,266.5 L412,254.5 428,254.5\" fill=\"currentColor\"/>\n",
       "</g>\n",
       "\n",
       "<g class=\"displacy-arrow\">\n",
       "    <path class=\"displacy-arc\" id=\"arrow-b1e1fa2383bf4083ac60558ca05db361-0-2\" stroke-width=\"2px\" d=\"M245,264.5 C245,89.5 570.0,89.5 570.0,264.5\" fill=\"none\" stroke=\"currentColor\"/>\n",
       "    <text dy=\"1.25em\" style=\"font-size: 0.8em; letter-spacing: 1px\">\n",
       "        <textPath xlink:href=\"#arrow-b1e1fa2383bf4083ac60558ca05db361-0-2\" class=\"displacy-label\" startOffset=\"50%\" side=\"left\" fill=\"currentColor\" text-anchor=\"middle\">nsubj</textPath>\n",
       "    </text>\n",
       "    <path class=\"displacy-arrowhead\" d=\"M570.0,266.5 L578.0,254.5 562.0,254.5\" fill=\"currentColor\"/>\n",
       "</g>\n",
       "\n",
       "<g class=\"displacy-arrow\">\n",
       "    <path class=\"displacy-arc\" id=\"arrow-b1e1fa2383bf4083ac60558ca05db361-0-3\" stroke-width=\"2px\" d=\"M770,264.5 C770,177.0 915.0,177.0 915.0,264.5\" fill=\"none\" stroke=\"currentColor\"/>\n",
       "    <text dy=\"1.25em\" style=\"font-size: 0.8em; letter-spacing: 1px\">\n",
       "        <textPath xlink:href=\"#arrow-b1e1fa2383bf4083ac60558ca05db361-0-3\" class=\"displacy-label\" startOffset=\"50%\" side=\"left\" fill=\"currentColor\" text-anchor=\"middle\">case</textPath>\n",
       "    </text>\n",
       "    <path class=\"displacy-arrowhead\" d=\"M770,266.5 L762,254.5 778,254.5\" fill=\"currentColor\"/>\n",
       "</g>\n",
       "\n",
       "<g class=\"displacy-arrow\">\n",
       "    <path class=\"displacy-arc\" id=\"arrow-b1e1fa2383bf4083ac60558ca05db361-0-4\" stroke-width=\"2px\" d=\"M595,264.5 C595,89.5 920.0,89.5 920.0,264.5\" fill=\"none\" stroke=\"currentColor\"/>\n",
       "    <text dy=\"1.25em\" style=\"font-size: 0.8em; letter-spacing: 1px\">\n",
       "        <textPath xlink:href=\"#arrow-b1e1fa2383bf4083ac60558ca05db361-0-4\" class=\"displacy-label\" startOffset=\"50%\" side=\"left\" fill=\"currentColor\" text-anchor=\"middle\">nmod</textPath>\n",
       "    </text>\n",
       "    <path class=\"displacy-arrowhead\" d=\"M920.0,266.5 L928.0,254.5 912.0,254.5\" fill=\"currentColor\"/>\n",
       "</g>\n",
       "\n",
       "<g class=\"displacy-arrow\">\n",
       "    <path class=\"displacy-arc\" id=\"arrow-b1e1fa2383bf4083ac60558ca05db361-0-5\" stroke-width=\"2px\" d=\"M1120,264.5 C1120,2.0 1625.0,2.0 1625.0,264.5\" fill=\"none\" stroke=\"currentColor\"/>\n",
       "    <text dy=\"1.25em\" style=\"font-size: 0.8em; letter-spacing: 1px\">\n",
       "        <textPath xlink:href=\"#arrow-b1e1fa2383bf4083ac60558ca05db361-0-5\" class=\"displacy-label\" startOffset=\"50%\" side=\"left\" fill=\"currentColor\" text-anchor=\"middle\">advmod</textPath>\n",
       "    </text>\n",
       "    <path class=\"displacy-arrowhead\" d=\"M1120,266.5 L1112,254.5 1128,254.5\" fill=\"currentColor\"/>\n",
       "</g>\n",
       "\n",
       "<g class=\"displacy-arrow\">\n",
       "    <path class=\"displacy-arc\" id=\"arrow-b1e1fa2383bf4083ac60558ca05db361-0-6\" stroke-width=\"2px\" d=\"M1295,264.5 C1295,89.5 1620.0,89.5 1620.0,264.5\" fill=\"none\" stroke=\"currentColor\"/>\n",
       "    <text dy=\"1.25em\" style=\"font-size: 0.8em; letter-spacing: 1px\">\n",
       "        <textPath xlink:href=\"#arrow-b1e1fa2383bf4083ac60558ca05db361-0-6\" class=\"displacy-label\" startOffset=\"50%\" side=\"left\" fill=\"currentColor\" text-anchor=\"middle\">advmod</textPath>\n",
       "    </text>\n",
       "    <path class=\"displacy-arrowhead\" d=\"M1295,266.5 L1287,254.5 1303,254.5\" fill=\"currentColor\"/>\n",
       "</g>\n",
       "\n",
       "<g class=\"displacy-arrow\">\n",
       "    <path class=\"displacy-arc\" id=\"arrow-b1e1fa2383bf4083ac60558ca05db361-0-7\" stroke-width=\"2px\" d=\"M1470,264.5 C1470,177.0 1615.0,177.0 1615.0,264.5\" fill=\"none\" stroke=\"currentColor\"/>\n",
       "    <text dy=\"1.25em\" style=\"font-size: 0.8em; letter-spacing: 1px\">\n",
       "        <textPath xlink:href=\"#arrow-b1e1fa2383bf4083ac60558ca05db361-0-7\" class=\"displacy-label\" startOffset=\"50%\" side=\"left\" fill=\"currentColor\" text-anchor=\"middle\">iobj</textPath>\n",
       "    </text>\n",
       "    <path class=\"displacy-arrowhead\" d=\"M1470,266.5 L1462,254.5 1478,254.5\" fill=\"currentColor\"/>\n",
       "</g>\n",
       "\n",
       "<g class=\"displacy-arrow\">\n",
       "    <path class=\"displacy-arc\" id=\"arrow-b1e1fa2383bf4083ac60558ca05db361-0-8\" stroke-width=\"2px\" d=\"M1645,264.5 C1645,177.0 1790.0,177.0 1790.0,264.5\" fill=\"none\" stroke=\"currentColor\"/>\n",
       "    <text dy=\"1.25em\" style=\"font-size: 0.8em; letter-spacing: 1px\">\n",
       "        <textPath xlink:href=\"#arrow-b1e1fa2383bf4083ac60558ca05db361-0-8\" class=\"displacy-label\" startOffset=\"50%\" side=\"left\" fill=\"currentColor\" text-anchor=\"middle\">nsubj</textPath>\n",
       "    </text>\n",
       "    <path class=\"displacy-arrowhead\" d=\"M1790.0,266.5 L1798.0,254.5 1782.0,254.5\" fill=\"currentColor\"/>\n",
       "</g>\n",
       "</svg></span>"
      ],
      "text/plain": [
       "<IPython.core.display.HTML object>"
      ]
     },
     "metadata": {},
     "output_type": "display_data"
    }
   ],
   "source": [
    "displacy.render(doc, style='dep')"
   ]
  },
  {
   "cell_type": "markdown",
   "id": "ecaca9bd",
   "metadata": {},
   "source": [
    "## Word vectors and similarity"
   ]
  },
  {
   "cell_type": "code",
   "execution_count": 34,
   "id": "eac3a9f5",
   "metadata": {},
   "outputs": [
    {
     "name": "stderr",
     "output_type": "stream",
     "text": [
      "<ipython-input-34-a95012895ea7>:4: UserWarning: [W007] The model you're using has no word vectors loaded, so the result of the Doc.similarity method will be based on the tagger, parser and NER, which may not give useful similarity judgements. This may happen if you're using one of the small models, e.g. `en_core_web_sm`, which don't ship with word vectors and only use context-sensitive tensors. You can always add your own word vectors, or use one of the larger models instead if available.\n",
      "  doc1.similarity(doc2)\n"
     ]
    },
    {
     "data": {
      "text/plain": [
       "0.6871221922575117"
      ]
     },
     "execution_count": 34,
     "metadata": {},
     "output_type": "execute_result"
    }
   ],
   "source": [
    "doc1 = nlp(\"Amo i cani\")\n",
    "doc2 = nlp(\"Mi piacciono i cani\")\n",
    "\n",
    "doc1.similarity(doc2)"
   ]
  },
  {
   "cell_type": "code",
   "execution_count": null,
   "id": "be6af6ef",
   "metadata": {},
   "outputs": [],
   "source": []
  },
  {
   "cell_type": "code",
   "execution_count": null,
   "id": "2cda5e35",
   "metadata": {},
   "outputs": [],
   "source": []
  },
  {
   "cell_type": "code",
   "execution_count": null,
   "id": "c1cff956",
   "metadata": {},
   "outputs": [],
   "source": []
  },
  {
   "cell_type": "markdown",
   "id": "ee5c74af",
   "metadata": {},
   "source": [
    "## Esempio uso su grandi files"
   ]
  },
  {
   "cell_type": "code",
   "execution_count": 35,
   "id": "48ae2ea6",
   "metadata": {},
   "outputs": [
    {
     "ename": "AttributeError",
     "evalue": "'list' object has no attribute 'extension_2'",
     "output_type": "error",
     "traceback": [
      "\u001b[0;31m---------------------------------------------------------------------------\u001b[0m",
      "\u001b[0;31mAttributeError\u001b[0m                            Traceback (most recent call last)",
      "\u001b[0;32m<ipython-input-35-7f6637934daa>\u001b[0m in \u001b[0;36m<module>\u001b[0;34m\u001b[0m\n\u001b[1;32m      1\u001b[0m \u001b[0mdocs\u001b[0m \u001b[0;34m=\u001b[0m \u001b[0mlist\u001b[0m\u001b[0;34m(\u001b[0m\u001b[0mnlp\u001b[0m\u001b[0;34m(\u001b[0m\u001b[0mfrase\u001b[0m\u001b[0;34m)\u001b[0m\u001b[0;34m)\u001b[0m\u001b[0;34m\u001b[0m\u001b[0;34m\u001b[0m\u001b[0m\n\u001b[0;32m----> 2\u001b[0;31m \u001b[0mdocs\u001b[0m\u001b[0;34m.\u001b[0m\u001b[0mextension_2\u001b[0m\u001b[0;34m\u001b[0m\u001b[0;34m\u001b[0m\u001b[0m\n\u001b[0m",
      "\u001b[0;31mAttributeError\u001b[0m: 'list' object has no attribute 'extension_2'"
     ]
    }
   ],
   "source": [
    "docs = list(nlp(frase))\n",
    "docs.extension_2"
   ]
  },
  {
   "cell_type": "markdown",
   "id": "50b1b641",
   "metadata": {},
   "source": [
    "## Rule-base matching"
   ]
  },
  {
   "cell_type": "code",
   "execution_count": 131,
   "id": "7b03cf68",
   "metadata": {},
   "outputs": [],
   "source": [
    "from spacy.matcher import Matcher"
   ]
  },
  {
   "cell_type": "code",
   "execution_count": 193,
   "id": "13c6914a",
   "metadata": {},
   "outputs": [],
   "source": [
    "matcher = Matcher(nlp.vocab)"
   ]
  },
  {
   "cell_type": "code",
   "execution_count": 194,
   "id": "069b3750",
   "metadata": {},
   "outputs": [],
   "source": [
    "pattern = [{'LOWER':'new'},{'LOWER':'york'}]\n",
    "matcher.add(\"CITIES\", [pattern])"
   ]
  },
  {
   "cell_type": "code",
   "execution_count": 195,
   "id": "68bc0507",
   "metadata": {},
   "outputs": [],
   "source": [
    "pattern2 = [{'LEMMA':'live'}]\n",
    "matcher.add(\"Live\", [pattern2])"
   ]
  },
  {
   "cell_type": "code",
   "execution_count": 196,
   "id": "2a11d0a3",
   "metadata": {},
   "outputs": [],
   "source": [
    "pattern3 = [{\"IS_DIGIT\":True, \"OP\":\"+\"}]\n",
    "matcher.add(\"Number\", [pattern3])"
   ]
  },
  {
   "cell_type": "code",
   "execution_count": 197,
   "id": "dde2bbe8",
   "metadata": {},
   "outputs": [],
   "source": [
    "pattern4 = [{\"POS\":\"VERB\", \"OP\":\"+\"}]\n",
    "matcher.add(\"Verb\", [pattern4])"
   ]
  },
  {
   "cell_type": "code",
   "execution_count": 198,
   "id": "7700799e",
   "metadata": {},
   "outputs": [],
   "source": [
    "pattern5 = [{\"ENT_TYPE\":\"LOC\", \"OP\":\"+\"}]\n",
    "matcher.add(\"Places\", [pattern5])"
   ]
  },
  {
   "cell_type": "code",
   "execution_count": 209,
   "id": "e4131af4",
   "metadata": {},
   "outputs": [],
   "source": [
    "pattern6 = [{\"LIKE_EMAIL\":True, \"OP\":\"+\"}]\n",
    "matcher.add(\"Places\", [pattern6])"
   ]
  },
  {
   "cell_type": "code",
   "execution_count": 210,
   "id": "330b6a40",
   "metadata": {},
   "outputs": [],
   "source": [
    "doc = nlp(\"I live in New York and play 1000 football, my 2000 mail is sadasdsad@sad.com\")"
   ]
  },
  {
   "cell_type": "code",
   "execution_count": 216,
   "id": "f1f5f565",
   "metadata": {},
   "outputs": [],
   "source": [
    "# doc[0].vector.shape"
   ]
  },
  {
   "cell_type": "code",
   "execution_count": 211,
   "id": "1f068d2b",
   "metadata": {},
   "outputs": [],
   "source": [
    "matches = matcher(doc)"
   ]
  },
  {
   "cell_type": "code",
   "execution_count": 212,
   "id": "cf2b26d8",
   "metadata": {},
   "outputs": [
    {
     "name": "stdout",
     "output_type": "stream",
     "text": [
      "live\n",
      "New York\n",
      "1000\n",
      "2000\n",
      "is\n",
      "sadasdsad@sad.com\n"
     ]
    }
   ],
   "source": [
    "for id_, start, end in matches:\n",
    "    span = doc[start:end]\n",
    "    \n",
    "    print(span.text)"
   ]
  },
  {
   "cell_type": "code",
   "execution_count": 152,
   "id": "e84b3fff",
   "metadata": {},
   "outputs": [
    {
     "data": {
      "text/plain": [
       "(6693841213195286794, 1, 2)"
      ]
     },
     "execution_count": 152,
     "metadata": {},
     "output_type": "execute_result"
    }
   ],
   "source": [
    "matches[0]"
   ]
  },
  {
   "cell_type": "code",
   "execution_count": 153,
   "id": "be259eaa",
   "metadata": {},
   "outputs": [
    {
     "data": {
      "text/plain": [
       "(5273278593145069999, 3, 5)"
      ]
     },
     "execution_count": 153,
     "metadata": {},
     "output_type": "execute_result"
    }
   ],
   "source": [
    "matches[1]"
   ]
  },
  {
   "cell_type": "code",
   "execution_count": 154,
   "id": "a7f79808",
   "metadata": {},
   "outputs": [
    {
     "data": {
      "text/plain": [
       "(5728456177564051517, 7, 8)"
      ]
     },
     "execution_count": 154,
     "metadata": {},
     "output_type": "execute_result"
    }
   ],
   "source": [
    "matches[2]"
   ]
  },
  {
   "cell_type": "code",
   "execution_count": 155,
   "id": "c173f679",
   "metadata": {},
   "outputs": [
    {
     "data": {
      "text/plain": [
       "(5728456177564051517, 11, 12)"
      ]
     },
     "execution_count": 155,
     "metadata": {},
     "output_type": "execute_result"
    }
   ],
   "source": [
    "matches[3]"
   ]
  },
  {
   "cell_type": "code",
   "execution_count": 129,
   "id": "0788c64f",
   "metadata": {},
   "outputs": [
    {
     "name": "stdout",
     "output_type": "stream",
     "text": [
      "2\n",
      "[(3004906285683798724, 0, 2), (3004906285683798724, 3, 5)]\n",
      "2\n",
      "[(3004906285683798724, 0, 2), (3004906285683798724, 3, 5)]\n"
     ]
    }
   ],
   "source": [
    "def on_match(matcher, doc, id, matches):\n",
    "        \n",
    "    for id_, match in enumerate(matches):\n",
    "\n",
    "        print(f'Matched! {id_}', match)\n",
    "\n",
    "matcher = Matcher(nlp.vocab)\n",
    "\n",
    "patterns = [\n",
    "   [{\"LOWER\": \"hello\"}, {\"LOWER\": \"world\"}],\n",
    "   [{\"ORTH\": \"Google\"}, {\"ORTH\": \"Maps\"}]\n",
    "]\n",
    "\n",
    "matcher.add(\"TEST_PATTERNS\", patterns, on_match=on_match)\n",
    "\n",
    "doc = nlp(\"HELLO WORLD on Google Maps.\")\n",
    "\n",
    "matches = matcher(doc)"
   ]
  },
  {
   "cell_type": "code",
   "execution_count": null,
   "id": "8784bd41",
   "metadata": {},
   "outputs": [],
   "source": []
  },
  {
   "cell_type": "code",
   "execution_count": null,
   "id": "4221c74d",
   "metadata": {},
   "outputs": [],
   "source": []
  },
  {
   "cell_type": "code",
   "execution_count": null,
   "id": "3a35ce87",
   "metadata": {},
   "outputs": [],
   "source": []
  },
  {
   "cell_type": "markdown",
   "id": "8c3a0b7a",
   "metadata": {},
   "source": [
    "## Multiprocessing"
   ]
  }
 ],
 "metadata": {
  "kernelspec": {
   "display_name": "Python 3",
   "language": "python",
   "name": "python3"
  },
  "language_info": {
   "codemirror_mode": {
    "name": "ipython",
    "version": 3
   },
   "file_extension": ".py",
   "mimetype": "text/x-python",
   "name": "python",
   "nbconvert_exporter": "python",
   "pygments_lexer": "ipython3",
   "version": "3.8.5"
  }
 },
 "nbformat": 4,
 "nbformat_minor": 5
}
